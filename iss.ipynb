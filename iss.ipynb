{
 "cells": [
  {
   "cell_type": "code",
   "execution_count": 1,
   "metadata": {},
   "outputs": [
    {
     "name": "stdout",
     "output_type": "stream",
     "text": [
      "Requirement already satisfied: requests in c:\\users\\fredd\\appdata\\local\\programs\\python\\python312\\lib\\site-packages (2.31.0)\n",
      "Requirement already satisfied: charset-normalizer<4,>=2 in c:\\users\\fredd\\appdata\\local\\programs\\python\\python312\\lib\\site-packages (from requests) (3.3.2)\n",
      "Requirement already satisfied: idna<4,>=2.5 in c:\\users\\fredd\\appdata\\local\\programs\\python\\python312\\lib\\site-packages (from requests) (3.7)\n",
      "Requirement already satisfied: urllib3<3,>=1.21.1 in c:\\users\\fredd\\appdata\\local\\programs\\python\\python312\\lib\\site-packages (from requests) (2.2.1)\n",
      "Requirement already satisfied: certifi>=2017.4.17 in c:\\users\\fredd\\appdata\\local\\programs\\python\\python312\\lib\\site-packages (from requests) (2024.2.2)\n",
      "Note: you may need to restart the kernel to use updated packages.\n"
     ]
    }
   ],
   "source": [
    "pip install requests"
   ]
  },
  {
   "cell_type": "code",
   "execution_count": 2,
   "metadata": {},
   "outputs": [],
   "source": [
    "import requests\n",
    "import json"
   ]
  },
  {
   "cell_type": "code",
   "execution_count": 3,
   "metadata": {},
   "outputs": [
    {
     "name": "stdout",
     "output_type": "stream",
     "text": [
      "200\n"
     ]
    }
   ],
   "source": [
    "response = requests.get(\"https://api.randomuser.me/\")\n",
    "print(response.status_code)"
   ]
  },
  {
   "cell_type": "code",
   "execution_count": 4,
   "metadata": {},
   "outputs": [],
   "source": [
    "parameters = {\"gender\": \"male\", \"results\": 5, \"country\": \"United States\"}"
   ]
  },
  {
   "cell_type": "code",
   "execution_count": 5,
   "metadata": {},
   "outputs": [
    {
     "name": "stdout",
     "output_type": "stream",
     "text": [
      "200\n"
     ]
    }
   ],
   "source": [
    "response = requests.get(\"http://api.randomuser.me/\", params=parameters)\n",
    "print(response.status_code)"
   ]
  },
  {
   "cell_type": "code",
   "execution_count": 6,
   "metadata": {},
   "outputs": [
    {
     "data": {
      "text/plain": [
       "'{\"results\":[{\"gender\":\"male\",\"name\":{\"title\":\"Mr\",\"first\":\"Etienne\",\"last\":\"Ma\"},\"location\":{\"street\":{\"number\":5521,\"name\":\"Stanley Way\"},\"city\":\"Wellington\",\"state\":\"Ontario\",\"country\":\"Canada\",\"postcode\":\"Z0S 4U1\",\"coordinates\":{\"latitude\":\"-72.4697\",\"longitude\":\"-55.7569\"},\"timezone\":{\"offset\":\"+4:00\",\"description\":\"Abu Dhabi, Muscat, Baku, Tbilisi\"}},\"email\":\"etienne.ma@example.com\",\"login\":{\"uuid\":\"9a8dfb17-d747-4d11-94ae-5a7a1e9cc7a2\",\"username\":\"crazymouse898\",\"password\":\"bearcats\",\"salt\":\"E2DsDYgg\",\"md5\":\"1def1c76716c0eb9633d5f73ed5cca6e\",\"sha1\":\"b13bf8dee55e8f6652954c2c3d7a00a1ce6f8153\",\"sha256\":\"697f853d0edbd16ddfb50de375cb33cca3f412f8ac515cc56745c092813b74af\"},\"dob\":{\"date\":\"1963-01-16T18:23:14.933Z\",\"age\":61},\"registered\":{\"date\":\"2015-07-06T09:51:38.522Z\",\"age\":8},\"phone\":\"R18 P87-4612\",\"cell\":\"H44 J98-0124\",\"id\":{\"name\":\"SIN\",\"value\":\"073623407\"},\"picture\":{\"large\":\"https://randomuser.me/api/portraits/men/49.jpg\",\"medium\":\"https://randomuser.me/api/portraits/med/men/49.jpg\",\"thumbnail\":\"https://randomuser.me/api/portraits/thumb/men/49.jpg\"},\"nat\":\"CA\"},{\"gender\":\"male\",\"name\":{\"title\":\"Mr\",\"first\":\"Davut\",\"last\":\"Akışık\"},\"location\":{\"street\":{\"number\":2280,\"name\":\"Bağdat Cd\"},\"city\":\"Kütahya\",\"state\":\"Kars\",\"country\":\"Turkey\",\"postcode\":78058,\"coordinates\":{\"latitude\":\"-52.5122\",\"longitude\":\"-73.6284\"},\"timezone\":{\"offset\":\"-10:00\",\"description\":\"Hawaii\"}},\"email\":\"davut.akisik@example.com\",\"login\":{\"uuid\":\"775fd023-6bef-4b42-8f83-95843fdecc58\",\"username\":\"goldenelephant346\",\"password\":\"cubs\",\"salt\":\"iW8sWty6\",\"md5\":\"354343ad73f4c7684b00940c19b079ae\",\"sha1\":\"a9dd0440988528c003c329ecf41c22cb45bac9be\",\"sha256\":\"ef2108e741eb5261f69cb62684f60d2cf5c5a26d8d2bf1d683ed775512039068\"},\"dob\":{\"date\":\"1995-04-10T00:46:47.984Z\",\"age\":29},\"registered\":{\"date\":\"2010-11-27T04:25:32.806Z\",\"age\":13},\"phone\":\"(705)-119-3898\",\"cell\":\"(595)-980-5855\",\"id\":{\"name\":\"\",\"value\":null},\"picture\":{\"large\":\"https://randomuser.me/api/portraits/men/73.jpg\",\"medium\":\"https://randomuser.me/api/portraits/med/men/73.jpg\",\"thumbnail\":\"https://randomuser.me/api/portraits/thumb/men/73.jpg\"},\"nat\":\"TR\"},{\"gender\":\"male\",\"name\":{\"title\":\"Mr\",\"first\":\"Svetozar\",\"last\":\"Stojaković\"},\"location\":{\"street\":{\"number\":7650,\"name\":\"Filipa Hristića \"},\"city\":\"Sokobanja\",\"state\":\"Raška\",\"country\":\"Serbia\",\"postcode\":64251,\"coordinates\":{\"latitude\":\"84.5410\",\"longitude\":\"53.2257\"},\"timezone\":{\"offset\":\"-1:00\",\"description\":\"Azores, Cape Verde Islands\"}},\"email\":\"svetozar.stojakovic@example.com\",\"login\":{\"uuid\":\"baf0b702-db93-4c8e-a673-9a8e3cf3b752\",\"username\":\"sadcat164\",\"password\":\"strong\",\"salt\":\"JzkHMpjZ\",\"md5\":\"a7ae83f7528167a3575c8a90c6f69a1b\",\"sha1\":\"5aa4288afc5b2845337ac005bb5112cd6ccd354e\",\"sha256\":\"3dc260640e53240509dafb40dfb9d1a72cc54eb3ab4b7c6cf77e1069a55bd063\"},\"dob\":{\"date\":\"1947-07-31T19:41:34.394Z\",\"age\":76},\"registered\":{\"date\":\"2007-06-24T03:12:11.924Z\",\"age\":16},\"phone\":\"022-3132-346\",\"cell\":\"061-0367-032\",\"id\":{\"name\":\"SID\",\"value\":\"599573256\"},\"picture\":{\"large\":\"https://randomuser.me/api/portraits/men/39.jpg\",\"medium\":\"https://randomuser.me/api/portraits/med/men/39.jpg\",\"thumbnail\":\"https://randomuser.me/api/portraits/thumb/men/39.jpg\"},\"nat\":\"RS\"},{\"gender\":\"male\",\"name\":{\"title\":\"Mr\",\"first\":\"Flenn\",\"last\":\"Harvey\"},\"location\":{\"street\":{\"number\":5797,\"name\":\"Washington Ave\"},\"city\":\"Bathurst\",\"state\":\"New South Wales\",\"country\":\"Australia\",\"postcode\":2384,\"coordinates\":{\"latitude\":\"-82.4713\",\"longitude\":\"-11.9866\"},\"timezone\":{\"offset\":\"+10:00\",\"description\":\"Eastern Australia, Guam, Vladivostok\"}},\"email\":\"flenn.harvey@example.com\",\"login\":{\"uuid\":\"fb5a3c16-33f6-45ca-889a-53a56b185d83\",\"username\":\"crazykoala793\",\"password\":\"kenwood\",\"salt\":\"Iq0b5dYZ\",\"md5\":\"70b0e60a76cfeed38ef418894a8af078\",\"sha1\":\"b65e15eca1598497858c34adecf16de63e722250\",\"sha256\":\"25d34da594f13f3d7a8c961fb4529a521aa4f59efb3fdfe06da81e4d32e76403\"},\"dob\":{\"date\":\"1966-12-19T22:12:43.170Z\",\"age\":57},\"registered\":{\"date\":\"2007-04-11T20:08:21.161Z\",\"age\":17},\"phone\":\"07-5143-5802\",\"cell\":\"0473-895-151\",\"id\":{\"name\":\"TFN\",\"value\":\"652078385\"},\"picture\":{\"large\":\"https://randomuser.me/api/portraits/men/76.jpg\",\"medium\":\"https://randomuser.me/api/portraits/med/men/76.jpg\",\"thumbnail\":\"https://randomuser.me/api/portraits/thumb/men/76.jpg\"},\"nat\":\"AU\"},{\"gender\":\"male\",\"name\":{\"title\":\"Mr\",\"first\":\"Kirk\",\"last\":\"Ryan\"},\"location\":{\"street\":{\"number\":9587,\"name\":\"Rookery Road\"},\"city\":\"Youghal\",\"state\":\"Roscommon\",\"country\":\"Ireland\",\"postcode\":16380,\"coordinates\":{\"latitude\":\"-70.4545\",\"longitude\":\"156.6547\"},\"timezone\":{\"offset\":\"-1:00\",\"description\":\"Azores, Cape Verde Islands\"}},\"email\":\"kirk.ryan@example.com\",\"login\":{\"uuid\":\"0c4a4570-bf0b-46c2-9411-3d87c2cf4c56\",\"username\":\"heavykoala481\",\"password\":\"helmut\",\"salt\":\"zrSaGiPV\",\"md5\":\"6e764f19edcdb9e9581e094c76fe38be\",\"sha1\":\"fe4218827a20494d95e31a0872bb493da2fe0976\",\"sha256\":\"dbc70ed485c9b4a9be23bf49b71a2647405b70a5eb9523c265f0757238903925\"},\"dob\":{\"date\":\"1998-12-27T04:45:02.598Z\",\"age\":25},\"registered\":{\"date\":\"2003-03-18T21:40:26.408Z\",\"age\":21},\"phone\":\"021-352-2423\",\"cell\":\"081-129-6198\",\"id\":{\"name\":\"PPS\",\"value\":\"0806313T\"},\"picture\":{\"large\":\"https://randomuser.me/api/portraits/men/70.jpg\",\"medium\":\"https://randomuser.me/api/portraits/med/men/70.jpg\",\"thumbnail\":\"https://randomuser.me/api/portraits/thumb/men/70.jpg\"},\"nat\":\"IE\"}],\"info\":{\"seed\":\"c5a345c5b8a04ec6\",\"results\":5,\"page\":1,\"version\":\"1.4\"}}'"
      ]
     },
     "execution_count": 6,
     "metadata": {},
     "output_type": "execute_result"
    }
   ],
   "source": [
    "response.text"
   ]
  },
  {
   "cell_type": "code",
   "execution_count": 7,
   "metadata": {},
   "outputs": [],
   "source": [
    "data = json.loads(response.text)"
   ]
  },
  {
   "cell_type": "code",
   "execution_count": 8,
   "metadata": {},
   "outputs": [
    {
     "name": "stdout",
     "output_type": "stream",
     "text": [
      "Type of 'data': <class 'dict'>\n",
      "{'results': [{'gender': 'male', 'name': {'title': 'Mr', 'first': 'Etienne', 'last': 'Ma'}, 'location': {'street': {'number': 5521, 'name': 'Stanley Way'}, 'city': 'Wellington', 'state': 'Ontario', 'country': 'Canada', 'postcode': 'Z0S 4U1', 'coordinates': {'latitude': '-72.4697', 'longitude': '-55.7569'}, 'timezone': {'offset': '+4:00', 'description': 'Abu Dhabi, Muscat, Baku, Tbilisi'}}, 'email': 'etienne.ma@example.com', 'login': {'uuid': '9a8dfb17-d747-4d11-94ae-5a7a1e9cc7a2', 'username': 'crazymouse898', 'password': 'bearcats', 'salt': 'E2DsDYgg', 'md5': '1def1c76716c0eb9633d5f73ed5cca6e', 'sha1': 'b13bf8dee55e8f6652954c2c3d7a00a1ce6f8153', 'sha256': '697f853d0edbd16ddfb50de375cb33cca3f412f8ac515cc56745c092813b74af'}, 'dob': {'date': '1963-01-16T18:23:14.933Z', 'age': 61}, 'registered': {'date': '2015-07-06T09:51:38.522Z', 'age': 8}, 'phone': 'R18 P87-4612', 'cell': 'H44 J98-0124', 'id': {'name': 'SIN', 'value': '073623407'}, 'picture': {'large': 'https://randomuser.me/api/portraits/men/49.jpg', 'medium': 'https://randomuser.me/api/portraits/med/men/49.jpg', 'thumbnail': 'https://randomuser.me/api/portraits/thumb/men/49.jpg'}, 'nat': 'CA'}, {'gender': 'male', 'name': {'title': 'Mr', 'first': 'Davut', 'last': 'Akışık'}, 'location': {'street': {'number': 2280, 'name': 'Bağdat Cd'}, 'city': 'Kütahya', 'state': 'Kars', 'country': 'Turkey', 'postcode': 78058, 'coordinates': {'latitude': '-52.5122', 'longitude': '-73.6284'}, 'timezone': {'offset': '-10:00', 'description': 'Hawaii'}}, 'email': 'davut.akisik@example.com', 'login': {'uuid': '775fd023-6bef-4b42-8f83-95843fdecc58', 'username': 'goldenelephant346', 'password': 'cubs', 'salt': 'iW8sWty6', 'md5': '354343ad73f4c7684b00940c19b079ae', 'sha1': 'a9dd0440988528c003c329ecf41c22cb45bac9be', 'sha256': 'ef2108e741eb5261f69cb62684f60d2cf5c5a26d8d2bf1d683ed775512039068'}, 'dob': {'date': '1995-04-10T00:46:47.984Z', 'age': 29}, 'registered': {'date': '2010-11-27T04:25:32.806Z', 'age': 13}, 'phone': '(705)-119-3898', 'cell': '(595)-980-5855', 'id': {'name': '', 'value': None}, 'picture': {'large': 'https://randomuser.me/api/portraits/men/73.jpg', 'medium': 'https://randomuser.me/api/portraits/med/men/73.jpg', 'thumbnail': 'https://randomuser.me/api/portraits/thumb/men/73.jpg'}, 'nat': 'TR'}, {'gender': 'male', 'name': {'title': 'Mr', 'first': 'Svetozar', 'last': 'Stojaković'}, 'location': {'street': {'number': 7650, 'name': 'Filipa Hristića '}, 'city': 'Sokobanja', 'state': 'Raška', 'country': 'Serbia', 'postcode': 64251, 'coordinates': {'latitude': '84.5410', 'longitude': '53.2257'}, 'timezone': {'offset': '-1:00', 'description': 'Azores, Cape Verde Islands'}}, 'email': 'svetozar.stojakovic@example.com', 'login': {'uuid': 'baf0b702-db93-4c8e-a673-9a8e3cf3b752', 'username': 'sadcat164', 'password': 'strong', 'salt': 'JzkHMpjZ', 'md5': 'a7ae83f7528167a3575c8a90c6f69a1b', 'sha1': '5aa4288afc5b2845337ac005bb5112cd6ccd354e', 'sha256': '3dc260640e53240509dafb40dfb9d1a72cc54eb3ab4b7c6cf77e1069a55bd063'}, 'dob': {'date': '1947-07-31T19:41:34.394Z', 'age': 76}, 'registered': {'date': '2007-06-24T03:12:11.924Z', 'age': 16}, 'phone': '022-3132-346', 'cell': '061-0367-032', 'id': {'name': 'SID', 'value': '599573256'}, 'picture': {'large': 'https://randomuser.me/api/portraits/men/39.jpg', 'medium': 'https://randomuser.me/api/portraits/med/men/39.jpg', 'thumbnail': 'https://randomuser.me/api/portraits/thumb/men/39.jpg'}, 'nat': 'RS'}, {'gender': 'male', 'name': {'title': 'Mr', 'first': 'Flenn', 'last': 'Harvey'}, 'location': {'street': {'number': 5797, 'name': 'Washington Ave'}, 'city': 'Bathurst', 'state': 'New South Wales', 'country': 'Australia', 'postcode': 2384, 'coordinates': {'latitude': '-82.4713', 'longitude': '-11.9866'}, 'timezone': {'offset': '+10:00', 'description': 'Eastern Australia, Guam, Vladivostok'}}, 'email': 'flenn.harvey@example.com', 'login': {'uuid': 'fb5a3c16-33f6-45ca-889a-53a56b185d83', 'username': 'crazykoala793', 'password': 'kenwood', 'salt': 'Iq0b5dYZ', 'md5': '70b0e60a76cfeed38ef418894a8af078', 'sha1': 'b65e15eca1598497858c34adecf16de63e722250', 'sha256': '25d34da594f13f3d7a8c961fb4529a521aa4f59efb3fdfe06da81e4d32e76403'}, 'dob': {'date': '1966-12-19T22:12:43.170Z', 'age': 57}, 'registered': {'date': '2007-04-11T20:08:21.161Z', 'age': 17}, 'phone': '07-5143-5802', 'cell': '0473-895-151', 'id': {'name': 'TFN', 'value': '652078385'}, 'picture': {'large': 'https://randomuser.me/api/portraits/men/76.jpg', 'medium': 'https://randomuser.me/api/portraits/med/men/76.jpg', 'thumbnail': 'https://randomuser.me/api/portraits/thumb/men/76.jpg'}, 'nat': 'AU'}, {'gender': 'male', 'name': {'title': 'Mr', 'first': 'Kirk', 'last': 'Ryan'}, 'location': {'street': {'number': 9587, 'name': 'Rookery Road'}, 'city': 'Youghal', 'state': 'Roscommon', 'country': 'Ireland', 'postcode': 16380, 'coordinates': {'latitude': '-70.4545', 'longitude': '156.6547'}, 'timezone': {'offset': '-1:00', 'description': 'Azores, Cape Verde Islands'}}, 'email': 'kirk.ryan@example.com', 'login': {'uuid': '0c4a4570-bf0b-46c2-9411-3d87c2cf4c56', 'username': 'heavykoala481', 'password': 'helmut', 'salt': 'zrSaGiPV', 'md5': '6e764f19edcdb9e9581e094c76fe38be', 'sha1': 'fe4218827a20494d95e31a0872bb493da2fe0976', 'sha256': 'dbc70ed485c9b4a9be23bf49b71a2647405b70a5eb9523c265f0757238903925'}, 'dob': {'date': '1998-12-27T04:45:02.598Z', 'age': 25}, 'registered': {'date': '2003-03-18T21:40:26.408Z', 'age': 21}, 'phone': '021-352-2423', 'cell': '081-129-6198', 'id': {'name': 'PPS', 'value': '0806313T'}, 'picture': {'large': 'https://randomuser.me/api/portraits/men/70.jpg', 'medium': 'https://randomuser.me/api/portraits/med/men/70.jpg', 'thumbnail': 'https://randomuser.me/api/portraits/thumb/men/70.jpg'}, 'nat': 'IE'}], 'info': {'seed': 'c5a345c5b8a04ec6', 'results': 5, 'page': 1, 'version': '1.4'}}\n"
     ]
    }
   ],
   "source": [
    "if response.status_code == 200:\n",
    "    data = json.loads(response.text)\n",
    "    print(f\"Type of 'data': {type(data)}\")    \n",
    "    print(data)\n",
    "else:\n",
    "    print(f\"Failed to retrieve data: {response.status_code}\")"
   ]
  },
  {
   "cell_type": "code",
   "execution_count": 9,
   "metadata": {},
   "outputs": [
    {
     "name": "stdout",
     "output_type": "stream",
     "text": [
      "Type of 'data': <class 'dict'>\n",
      "Etienne\n",
      "Davut\n",
      "Svetozar\n",
      "Flenn\n",
      "Kirk\n"
     ]
    }
   ],
   "source": [
    "if response.status_code == 200:\n",
    "    data = json.loads(response.text)\n",
    "    print(f\"Type of 'data': {type(data)}\")\n",
    "    \n",
    "    for person in data['results']:\n",
    "        print(person['name']['first'])\n",
    "else:\n",
    "    print(f\"Failed to retrieve data: {response.status_code}\")"
   ]
  },
  {
   "cell_type": "code",
   "execution_count": 10,
   "metadata": {},
   "outputs": [
    {
     "name": "stdout",
     "output_type": "stream",
     "text": [
      "Type of 'data': <class 'dict'>\n",
      "Jasmin Moghbeli\n",
      "Andreas Mogensen\n",
      "Satoshi Furukawa\n",
      "Konstantin Borisov\n",
      "Oleg Kononenko\n",
      "Nikolai Chub\n",
      "Loral O'Hara\n"
     ]
    }
   ],
   "source": [
    "response = requests.get(\"http://api.open-notify.org/astros.json\")\n",
    "\n",
    "if response.status_code == 200:\n",
    "    data = json.loads(response.text)    \n",
    "    print(f\"Type of 'data': {type(data)}\")\n",
    "    \n",
    "    for person in data['people']:\n",
    "        print(person['name'])\n",
    "else:\n",
    "    print(f\"Failed to retrieve data: {response.status_code}\")\n"
   ]
  },
  {
   "cell_type": "code",
   "execution_count": 11,
   "metadata": {},
   "outputs": [
    {
     "name": "stdout",
     "output_type": "stream",
     "text": [
      "Number of people in space right now: 7\n",
      "Names of people in space right now:\n",
      "Jasmin Moghbeli\n",
      "Andreas Mogensen\n",
      "Satoshi Furukawa\n",
      "Konstantin Borisov\n",
      "Oleg Kononenko\n",
      "Nikolai Chub\n",
      "Loral O'Hara\n"
     ]
    }
   ],
   "source": [
    "response = requests.get(\"http://api.open-notify.org/astros.json\")\n",
    "\n",
    "if response.status_code == 200:\n",
    "    data = json.loads(response.text)\n",
    "    \n",
    "    number_of_people = data['number']\n",
    "    print(f\"Number of people in space right now: {number_of_people}\")\n",
    "    \n",
    "    print(\"Names of people in space right now:\")\n",
    "    for person in data['people']:\n",
    "        print(person['name'])\n",
    "else:\n",
    "    print(f\"Failed to retrieve data: {response.status_code}\")\n"
   ]
  },
  {
   "cell_type": "code",
   "execution_count": 12,
   "metadata": {},
   "outputs": [
    {
     "name": "stdout",
     "output_type": "stream",
     "text": [
      "{'message': 'success',\n",
      " 'number': 7,\n",
      " 'people': [{'craft': 'ISS', 'name': 'Jasmin Moghbeli'},\n",
      "            {'craft': 'ISS', 'name': 'Andreas Mogensen'},\n",
      "            {'craft': 'ISS', 'name': 'Satoshi Furukawa'},\n",
      "            {'craft': 'ISS', 'name': 'Konstantin Borisov'},\n",
      "            {'craft': 'ISS', 'name': 'Oleg Kononenko'},\n",
      "            {'craft': 'ISS', 'name': 'Nikolai Chub'},\n",
      "            {'craft': 'ISS', 'name': \"Loral O'Hara\"}]}\n"
     ]
    }
   ],
   "source": [
    "from pprint import pprint\n",
    "pprint(data)"
   ]
  }
 ],
 "metadata": {
  "kernelspec": {
   "display_name": "Python 3",
   "language": "python",
   "name": "python3"
  },
  "language_info": {
   "codemirror_mode": {
    "name": "ipython",
    "version": 3
   },
   "file_extension": ".py",
   "mimetype": "text/x-python",
   "name": "python",
   "nbconvert_exporter": "python",
   "pygments_lexer": "ipython3",
   "version": "3.12.3"
  }
 },
 "nbformat": 4,
 "nbformat_minor": 2
}
